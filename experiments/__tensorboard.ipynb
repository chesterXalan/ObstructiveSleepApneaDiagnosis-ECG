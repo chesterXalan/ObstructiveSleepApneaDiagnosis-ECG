{
 "cells": [
  {
   "cell_type": "code",
   "execution_count": null,
   "id": "d903733a-0874-439d-b35a-7063a7c007f1",
   "metadata": {},
   "outputs": [],
   "source": [
    "import tempfile, pathlib\n",
    "\n",
    "%load_ext tensorboard\n",
    "%tensorboard --logdir logs_tb --reload_multifile True\n",
    "\n",
    "tb_temp_dir = pathlib.Path(tempfile.gettempdir(), '.tensorboard-info')\n",
    "for tb_temp in tb_temp_dir.glob('*.info'):\n",
    "    tb_temp.unlink(missing_ok=True)"
   ]
  },
  {
   "cell_type": "code",
   "execution_count": null,
   "id": "3ea7c440-d177-4a8c-92c4-57f761ff5abc",
   "metadata": {},
   "outputs": [],
   "source": []
  }
 ],
 "metadata": {
  "kernelspec": {
   "display_name": "Python 3 (ipykernel)",
   "language": "python",
   "name": "python3"
  },
  "language_info": {
   "codemirror_mode": {
    "name": "ipython",
    "version": 3
   },
   "file_extension": ".py",
   "mimetype": "text/x-python",
   "name": "python",
   "nbconvert_exporter": "python",
   "pygments_lexer": "ipython3",
   "version": "3.9.15"
  }
 },
 "nbformat": 4,
 "nbformat_minor": 5
}
